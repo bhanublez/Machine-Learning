{
 "cells": [
  {
   "cell_type": "markdown",
   "metadata": {},
   "source": [
    "## Standardization"
   ]
  },
  {
   "cell_type": "code",
   "execution_count": 1,
   "metadata": {},
   "outputs": [],
   "source": [
    "import seaborn as sns"
   ]
  },
  {
   "cell_type": "code",
   "execution_count": 3,
   "metadata": {},
   "outputs": [],
   "source": [
    "df=sns.load_dataset('tips')"
   ]
  },
  {
   "cell_type": "code",
   "execution_count": 4,
   "metadata": {},
   "outputs": [
    {
     "data": {
      "text/html": [
       "<div>\n",
       "<style scoped>\n",
       "    .dataframe tbody tr th:only-of-type {\n",
       "        vertical-align: middle;\n",
       "    }\n",
       "\n",
       "    .dataframe tbody tr th {\n",
       "        vertical-align: top;\n",
       "    }\n",
       "\n",
       "    .dataframe thead th {\n",
       "        text-align: right;\n",
       "    }\n",
       "</style>\n",
       "<table border=\"1\" class=\"dataframe\">\n",
       "  <thead>\n",
       "    <tr style=\"text-align: right;\">\n",
       "      <th></th>\n",
       "      <th>total_bill</th>\n",
       "      <th>tip</th>\n",
       "      <th>sex</th>\n",
       "      <th>smoker</th>\n",
       "      <th>day</th>\n",
       "      <th>time</th>\n",
       "      <th>size</th>\n",
       "    </tr>\n",
       "  </thead>\n",
       "  <tbody>\n",
       "    <tr>\n",
       "      <th>0</th>\n",
       "      <td>16.99</td>\n",
       "      <td>1.01</td>\n",
       "      <td>Female</td>\n",
       "      <td>No</td>\n",
       "      <td>Sun</td>\n",
       "      <td>Dinner</td>\n",
       "      <td>2</td>\n",
       "    </tr>\n",
       "    <tr>\n",
       "      <th>1</th>\n",
       "      <td>10.34</td>\n",
       "      <td>1.66</td>\n",
       "      <td>Male</td>\n",
       "      <td>No</td>\n",
       "      <td>Sun</td>\n",
       "      <td>Dinner</td>\n",
       "      <td>3</td>\n",
       "    </tr>\n",
       "    <tr>\n",
       "      <th>2</th>\n",
       "      <td>21.01</td>\n",
       "      <td>3.50</td>\n",
       "      <td>Male</td>\n",
       "      <td>No</td>\n",
       "      <td>Sun</td>\n",
       "      <td>Dinner</td>\n",
       "      <td>3</td>\n",
       "    </tr>\n",
       "    <tr>\n",
       "      <th>3</th>\n",
       "      <td>23.68</td>\n",
       "      <td>3.31</td>\n",
       "      <td>Male</td>\n",
       "      <td>No</td>\n",
       "      <td>Sun</td>\n",
       "      <td>Dinner</td>\n",
       "      <td>2</td>\n",
       "    </tr>\n",
       "    <tr>\n",
       "      <th>4</th>\n",
       "      <td>24.59</td>\n",
       "      <td>3.61</td>\n",
       "      <td>Female</td>\n",
       "      <td>No</td>\n",
       "      <td>Sun</td>\n",
       "      <td>Dinner</td>\n",
       "      <td>4</td>\n",
       "    </tr>\n",
       "  </tbody>\n",
       "</table>\n",
       "</div>"
      ],
      "text/plain": [
       "   total_bill   tip     sex smoker  day    time  size\n",
       "0       16.99  1.01  Female     No  Sun  Dinner     2\n",
       "1       10.34  1.66    Male     No  Sun  Dinner     3\n",
       "2       21.01  3.50    Male     No  Sun  Dinner     3\n",
       "3       23.68  3.31    Male     No  Sun  Dinner     2\n",
       "4       24.59  3.61  Female     No  Sun  Dinner     4"
      ]
     },
     "execution_count": 4,
     "metadata": {},
     "output_type": "execute_result"
    }
   ],
   "source": [
    "df.head()"
   ]
  },
  {
   "cell_type": "code",
   "execution_count": 9,
   "metadata": {},
   "outputs": [
    {
     "data": {
      "text/plain": [
       "total_bill    0\n",
       "tip           0\n",
       "sex           0\n",
       "smoker        0\n",
       "day           0\n",
       "time          0\n",
       "size          0\n",
       "dtype: int64"
      ]
     },
     "execution_count": 9,
     "metadata": {},
     "output_type": "execute_result"
    }
   ],
   "source": [
    "df.isnull().sum()"
   ]
  },
  {
   "cell_type": "code",
   "execution_count": 11,
   "metadata": {},
   "outputs": [],
   "source": [
    "total_bill=df['total_bill']"
   ]
  },
  {
   "cell_type": "code",
   "execution_count": 13,
   "metadata": {},
   "outputs": [
    {
     "data": {
      "text/plain": [
       "0    16.99\n",
       "1    10.34\n",
       "2    21.01\n",
       "3    23.68\n",
       "4    24.59\n",
       "Name: total_bill, dtype: float64"
      ]
     },
     "execution_count": 13,
     "metadata": {},
     "output_type": "execute_result"
    }
   ],
   "source": [
    "total_bill.head()"
   ]
  },
  {
   "cell_type": "code",
   "execution_count": 17,
   "metadata": {},
   "outputs": [
    {
     "data": {
      "text/plain": [
       "<seaborn.axisgrid.FacetGrid at 0x210ff17ea90>"
      ]
     },
     "execution_count": 17,
     "metadata": {},
     "output_type": "execute_result"
    },
    {
     "data": {
      "image/png": "[encoded data removed]",
      "text/plain": [
       "<Figure size 500x500 with 1 Axes>"
      ]
     },
     "metadata": {},
     "output_type": "display_data"
    }
   ],
   "source": [
    "sns.displot(total_bill)"
   ]
  },
  {
   "cell_type": "code",
   "execution_count": 14,
   "metadata": {},
   "outputs": [
    {
     "name": "stdout",
     "output_type": "stream",
     "text": [
      "19.78594262295082 8.884150577771132\n"
     ]
    }
   ],
   "source": [
    "import numpy as np\n",
    "mean=np.mean(total_bill)\n",
    "std=np.std(total_bill)\n",
    "print(mean,std)"
   ]
  },
  {
   "cell_type": "code",
   "execution_count": 15,
   "metadata": {},
   "outputs": [],
   "source": [
    "normalized_data=[]\n",
    "for i in total_bill:\n",
    "    z_score=(i-mean)/std# z_score calculated for individual element\n",
    "    normalized_data.append(z_score)\n",
    "    "
   ]
  },
  {
   "cell_type": "code",
   "execution_count": 16,
   "metadata": {},
   "outputs": [
    {
     "data": {
      "text/plain": [
       "[-0.3147113050904943,\n",
       " -1.0632353132988692,\n",
       " 0.13777989987156145,\n",
       " 0.43831510316725475,\n",
       " 0.540744704290506,\n",
       " 0.6195367051545455,\n",
       " -1.2399545152367863,\n",
       " 0.7985071071171495,\n",
       " -0.5342033074974614,\n",
       " -0.5634689078183903,\n",
       " -1.0711145133852733,\n",
       " 1.7417599174609364,\n",
       " -0.49143050702841123,\n",
       " -0.15262490331304146,\n",
       " -0.557840907756673,\n",
       " 0.2019391005751361,\n",
       " -1.0643609133112126,\n",
       " -0.3935033059545337,\n",
       " -0.31696250511518104,\n",
       " 0.09725829942719795,\n",
       " -0.2100305039425557,\n",
       " 0.05673669898283484,\n",
       " -0.45203450659639155,\n",
       " 2.2100095225958003,\n",
       " 0.003833498402694168,\n",
       " -0.2224121040783337,\n",
       " -0.7221785095588127,\n",
       " -0.7987193103981653,\n",
       " 0.21544630072325727,\n",
       " -0.015301701807144186,\n",
       " -1.1521577142739994,\n",
       " -0.16162970341178864,\n",
       " -0.5319521074727743,\n",
       " 0.10176069947657193,\n",
       " -0.22578890411536368,\n",
       " 0.4810879036363046,\n",
       " -0.3912521059298469,\n",
       " -0.32146490516455467,\n",
       " -0.12335930299211233,\n",
       " 1.2926455125359115,\n",
       " -0.4216433062631192,\n",
       " -0.2618081045103532,\n",
       " -0.6580193088552376,\n",
       " -1.137524914113535,\n",
       " 1.1947183114620337,\n",
       " -0.16838330348584943,\n",
       " 0.2751031013774587,\n",
       " 1.419838313930718,\n",
       " 0.986482309178501,\n",
       " -0.19652330379443494,\n",
       " -0.8156033105833167,\n",
       " -1.0688633133605865,\n",
       " 1.691107916905483,\n",
       " -1.1082593137926062,\n",
       " 0.6499279054878179,\n",
       " -0.03331130200463894,\n",
       " 2.051299920855377,\n",
       " 0.7456039065370088,\n",
       " -0.9619313121879614,\n",
       " 3.206165533519728,\n",
       " 0.05673669898283484,\n",
       " -0.672652109015702,\n",
       " -0.9866945124595167,\n",
       " -0.16838330348584943,\n",
       " -0.24717530434988882,\n",
       " 0.0330990987236229,\n",
       " -0.37549370575703894,\n",
       " -1.8815465222725365,\n",
       " 0.049983098908774455,\n",
       " -0.5375801075344916,\n",
       " -0.8741345112251745,\n",
       " -0.3057065049917467,\n",
       " 0.7962559070924626,\n",
       " 0.6184111051422023,\n",
       " -0.5690969078801073,\n",
       " -1.044100113089031,\n",
       " -0.2100305039425557,\n",
       " 0.834526307512139,\n",
       " 0.3347599020316602,\n",
       " -0.2809433047201916,\n",
       " -0.03893930206635573,\n",
       " -0.351856105497827,\n",
       " -1.0936265136321417,\n",
       " 1.451355114276334,\n",
       " -0.4283969063371796,\n",
       " 1.6933591169301694,\n",
       " -0.760448909978489,\n",
       " -0.16950890349819261,\n",
       " 0.5542519044386273,\n",
       " 0.1546639000567126,\n",
       " 1.0337575096969245,\n",
       " 0.3043687016983874,\n",
       " -1.5798857189644997,\n",
       " -0.3901265059175033,\n",
       " 0.3336343020193166,\n",
       " 2.294429523521557,\n",
       " 0.8435311076108866,\n",
       " -0.8730089112128311,\n",
       " 0.13777989987156145,\n",
       " -0.8246081106820639,\n",
       " -0.9495497120521837,\n",
       " -0.4959329070777848,\n",
       " 2.759302328619389,\n",
       " 0.29648950161198384,\n",
       " 0.12764949976047066,\n",
       " -0.49818410710247185,\n",
       " 0.07924869922970319,\n",
       " 0.6105319050557984,\n",
       " -0.1740113035475666,\n",
       " -0.616372108398531,\n",
       " -0.6512657087811771,\n",
       " -1.4110457171129864,\n",
       " 2.058053520929438,\n",
       " 0.46870630350052706,\n",
       " 0.6668119056729693,\n",
       " -0.27869210469550476,\n",
       " 1.141815110881893,\n",
       " -1.0283417129162231,\n",
       " -0.8279849107190942,\n",
       " 0.4833391036609914,\n",
       " -0.9112793116325074,\n",
       " -0.7165505094970955,\n",
       " -0.6220001084602481,\n",
       " -0.43177370637421,\n",
       " -0.822356910657377,\n",
       " 1.1271823107214287,\n",
       " -1.268094515545372,\n",
       " -0.5927345081393192,\n",
       " -0.9461729120151534,\n",
       " 0.34151350210572057,\n",
       " -0.07946090251071923,\n",
       " 0.05448549895814805,\n",
       " -0.9698105122743653,\n",
       " -0.8471201109289324,\n",
       " -0.1717601035228794,\n",
       " -1.2692201155577154,\n",
       " -1.0643609133112126,\n",
       " -0.6343817085960257,\n",
       " -0.4261457063124928,\n",
       " -0.7458161098180245,\n",
       " -0.26068250449801,\n",
       " 1.6337023162759678,\n",
       " 2.4092407247805854,\n",
       " 0.8176423073269878,\n",
       " -0.3777449057817257,\n",
       " -1.2872297157552102,\n",
       " -0.12898730305382952,\n",
       " -0.8910185114103258,\n",
       " -1.126268913990101,\n",
       " -1.3817801167920576,\n",
       " -0.6433865086947731,\n",
       " -0.7491929098550546,\n",
       " -0.2843201047572215,\n",
       " 0.5362423042411325,\n",
       " -0.0017945016590230187,\n",
       " 1.1328103107831458,\n",
       " 3.194909533396294,\n",
       " 0.5868943047965863,\n",
       " -0.7199273095341256,\n",
       " -0.3709913057076653,\n",
       " 0.1929343004763889,\n",
       " -0.8020961104351955,\n",
       " -0.40250810605328086,\n",
       " -0.672652109015702,\n",
       " -0.25618010444863604,\n",
       " 0.5328655042041021,\n",
       " 0.10963989956297591,\n",
       " 1.3421719130790222,\n",
       " -1.0350953129902838,\n",
       " -1.03059291294091,\n",
       " 3.492067936654957,\n",
       " -0.44753210654701775,\n",
       " -1.4110457171129864,\n",
       " 1.3579303132518301,\n",
       " -0.3338465053003322,\n",
       " 1.476118314547889,\n",
       " -0.2134073039795861,\n",
       " -0.5972369081886928,\n",
       " -1.1465297142122826,\n",
       " 1.6708471166833014,\n",
       " 1.6730983167079878,\n",
       " 0.39891910273523484,\n",
       " 2.877490329915449,\n",
       " 0.3809095025377405,\n",
       " 2.3372023239906063,\n",
       " 0.10176069947657193,\n",
       " 0.12539829973578348,\n",
       " 1.2014719115360946,\n",
       " -0.18414170365865737,\n",
       " 0.3730303024513365,\n",
       " -0.46103930669513893,\n",
       " 0.0027078983903505707,\n",
       " 0.9741007090427235,\n",
       " -0.4846769069543507,\n",
       " -0.3608609055965746,\n",
       " -1.3761521167303405,\n",
       " -1.0632353132988692,\n",
       " 2.6253559271505225,\n",
       " -0.7638257100155192,\n",
       " -0.7064201093860047,\n",
       " -0.12110810296742554,\n",
       " -0.7930913103364481,\n",
       " -0.7638257100155192,\n",
       " -0.3811217058187561,\n",
       " 0.08375109927907717,\n",
       " -0.3732425057323521,\n",
       " 0.7658647067591904,\n",
       " 2.1323431217441033,\n",
       " 0.5047255038955165,\n",
       " -0.7908401103117614,\n",
       " 1.1564479110423573,\n",
       " 0.6870727058951509,\n",
       " 3.212919133593788,\n",
       " -0.7334345096822469,\n",
       " 0.9437095087094511,\n",
       " -0.7750817101389533,\n",
       " 0.9414583086847639,\n",
       " -0.9225353117559416,\n",
       " -1.3558913165081588,\n",
       " 1.165452711141105,\n",
       " -0.8583761110523666,\n",
       " -0.7165505094970955,\n",
       " -1.2613409154713113,\n",
       " -0.4283969063371796,\n",
       " -0.7165505094970955,\n",
       " -0.39575450597922046,\n",
       " -1.0913753136074549,\n",
       " 0.0747462991803296,\n",
       " -0.7323089096699035,\n",
       " 0.26272150124168114,\n",
       " 0.47545990357458784,\n",
       " -0.46103930669513893,\n",
       " -0.9202841117312548,\n",
       " -1.0148345127681022,\n",
       " -0.4790489068926337,\n",
       " -1.0936265136321417,\n",
       " -0.8088497105092561,\n",
       " 1.468239114461485,\n",
       " 1.8059191181645116,\n",
       " 1.0405111097709854,\n",
       " 0.8322751074874521,\n",
       " 0.3246295019205694,\n",
       " -0.2212865040659901,\n",
       " -0.11322890288102155]"
      ]
     },
     "execution_count": 16,
     "metadata": {},
     "output_type": "execute_result"
    }
   ],
   "source": [
    "normalized_data"
   ]
  },
  {
   "cell_type": "code",
   "execution_count": 19,
   "metadata": {},
   "outputs": [
    {
     "data": {
      "text/plain": [
       "<seaborn.axisgrid.FacetGrid at 0x210ffb33bd0>"
      ]
     },
     "execution_count": 19,
     "metadata": {},
     "output_type": "execute_result"
    },
    {
     "data": {
      "image/png": "[encoded data removed]",
      "text/plain": [
       "<Figure size 500x500 with 1 Axes>"
      ]
     },
     "metadata": {},
     "output_type": "display_data"
    }
   ],
   "source": [
    "sns.displot(normalized_data)"
   ]
  },
  {
   "cell_type": "code",
   "execution_count": 20,
   "metadata": {},
   "outputs": [],
   "source": [
    "from sklearn.preprocessing import StandardScaler"
   ]
  },
  {
   "cell_type": "code",
   "execution_count": 21,
   "metadata": {},
   "outputs": [],
   "source": [
    "scaler=StandardScaler()"
   ]
  },
  {
   "cell_type": "code",
   "execution_count": 22,
   "metadata": {},
   "outputs": [
    {
     "data": {
      "text/html": [
       "<style>#sk-container-id-1 {color: black;}#sk-container-id-1 pre{padding: 0;}#sk-container-id-1 div.sk-toggleable {background-color: white;}#sk-container-id-1 label.sk-toggleable__label {cursor: pointer;display: block;width: 100%;margin-bottom: 0;padding: 0.3em;box-sizing: border-box;text-align: center;}#sk-container-id-1 label.sk-toggleable__label-arrow:before {content: \"▸\";float: left;margin-right: 0.25em;color: #696969;}#sk-container-id-1 label.sk-toggleable__label-arrow:hover:before {color: black;}#sk-container-id-1 div.sk-estimator:hover label.sk-toggleable__label-arrow:before {color: black;}#sk-container-id-1 div.sk-toggleable__content {max-height: 0;max-width: 0;overflow: hidden;text-align: left;background-color: #f0f8ff;}#sk-container-id-1 div.sk-toggleable__content pre {margin: 0.2em;color: black;border-radius: 0.25em;background-color: #f0f8ff;}#sk-container-id-1 input.sk-toggleable__control:checked~div.sk-toggleable__content {max-height: 200px;max-width: 100%;overflow: auto;}#sk-container-id-1 input.sk-toggleable__control:checked~label.sk-toggleable__label-arrow:before {content: \"▾\";}#sk-container-id-1 div.sk-estimator input.sk-toggleable__control:checked~label.sk-toggleable__label {background-color: #d4ebff;}#sk-container-id-1 div.sk-label input.sk-toggleable__control:checked~label.sk-toggleable__label {background-color: #d4ebff;}#sk-container-id-1 input.sk-hidden--visually {border: 0;clip: rect(1px 1px 1px 1px);clip: rect(1px, 1px, 1px, 1px);height: 1px;margin: -1px;overflow: hidden;padding: 0;position: absolute;width: 1px;}#sk-container-id-1 div.sk-estimator {font-family: monospace;background-color: #f0f8ff;border: 1px dotted black;border-radius: 0.25em;box-sizing: border-box;margin-bottom: 0.5em;}#sk-container-id-1 div.sk-estimator:hover {background-color: #d4ebff;}#sk-container-id-1 div.sk-parallel-item::after {content: \"\";width: 100%;border-bottom: 1px solid gray;flex-grow: 1;}#sk-container-id-1 div.sk-label:hover label.sk-toggleable__label {background-color: #d4ebff;}#sk-container-id-1 div.sk-serial::before {content: \"\";position: absolute;border-left: 1px solid gray;box-sizing: border-box;top: 0;bottom: 0;left: 50%;z-index: 0;}#sk-container-id-1 div.sk-serial {display: flex;flex-direction: column;align-items: center;background-color: white;padding-right: 0.2em;padding-left: 0.2em;position: relative;}#sk-container-id-1 div.sk-item {position: relative;z-index: 1;}#sk-container-id-1 div.sk-parallel {display: flex;align-items: stretch;justify-content: center;background-color: white;position: relative;}#sk-container-id-1 div.sk-item::before, #sk-container-id-1 div.sk-parallel-item::before {content: \"\";position: absolute;border-left: 1px solid gray;box-sizing: border-box;top: 0;bottom: 0;left: 50%;z-index: -1;}#sk-container-id-1 div.sk-parallel-item {display: flex;flex-direction: column;z-index: 1;position: relative;background-color: white;}#sk-container-id-1 div.sk-parallel-item:first-child::after {align-self: flex-end;width: 50%;}#sk-container-id-1 div.sk-parallel-item:last-child::after {align-self: flex-start;width: 50%;}#sk-container-id-1 div.sk-parallel-item:only-child::after {width: 0;}#sk-container-id-1 div.sk-dashed-wrapped {border: 1px dashed gray;margin: 0 0.4em 0.5em 0.4em;box-sizing: border-box;padding-bottom: 0.4em;background-color: white;}#sk-container-id-1 div.sk-label label {font-family: monospace;font-weight: bold;display: inline-block;line-height: 1.2em;}#sk-container-id-1 div.sk-label-container {text-align: center;}#sk-container-id-1 div.sk-container {/* jupyter's `normalize.less` sets `[hidden] { display: none; }` but bootstrap.min.css set `[hidden] { display: none !important; }` so we also need the `!important` here to be able to override the default hidden behavior on the sphinx rendered scikit-learn.org. See: https://github.com/scikit-learn/scikit-learn/issues/21755 */display: inline-block !important;position: relative;}#sk-container-id-1 div.sk-text-repr-fallback {display: none;}</style><div id=\"sk-container-id-1\" class=\"sk-top-container\"><div class=\"sk-text-repr-fallback\"><pre>StandardScaler()</pre><b>In a Jupyter environment, please rerun this cell to show the HTML representation or trust the notebook. <br />On GitHub, the HTML representation is unable to render, please try loading this page with nbviewer.org.</b></div><div class=\"sk-container\" hidden><div class=\"sk-item\"><div class=\"sk-estimator sk-toggleable\"><input class=\"sk-toggleable__control sk-hidden--visually\" id=\"sk-estimator-id-1\" type=\"checkbox\" checked><label for=\"sk-estimator-id-1\" class=\"sk-toggleable__label sk-toggleable__label-arrow\">StandardScaler</label><div class=\"sk-toggleable__content\"><pre>StandardScaler()</pre></div></div></div></div></div>"
      ],
      "text/plain": [
       "StandardScaler()"
      ]
     },
     "execution_count": 22,
     "metadata": {},
     "output_type": "execute_result"
    }
   ],
   "source": [
    "scaler"
   ]
  },
  {
   "cell_type": "code",
   "execution_count": 26,
   "metadata": {},
   "outputs": [
    {
     "data": {
      "text/html": [
       "<style>#sk-container-id-3 {color: black;}#sk-container-id-3 pre{padding: 0;}#sk-container-id-3 div.sk-toggleable {background-color: white;}#sk-container-id-3 label.sk-toggleable__label {cursor: pointer;display: block;width: 100%;margin-bottom: 0;padding: 0.3em;box-sizing: border-box;text-align: center;}#sk-container-id-3 label.sk-toggleable__label-arrow:before {content: \"▸\";float: left;margin-right: 0.25em;color: #696969;}#sk-container-id-3 label.sk-toggleable__label-arrow:hover:before {color: black;}#sk-container-id-3 div.sk-estimator:hover label.sk-toggleable__label-arrow:before {color: black;}#sk-container-id-3 div.sk-toggleable__content {max-height: 0;max-width: 0;overflow: hidden;text-align: left;background-color: #f0f8ff;}#sk-container-id-3 div.sk-toggleable__content pre {margin: 0.2em;color: black;border-radius: 0.25em;background-color: #f0f8ff;}#sk-container-id-3 input.sk-toggleable__control:checked~div.sk-toggleable__content {max-height: 200px;max-width: 100%;overflow: auto;}#sk-container-id-3 input.sk-toggleable__control:checked~label.sk-toggleable__label-arrow:before {content: \"▾\";}#sk-container-id-3 div.sk-estimator input.sk-toggleable__control:checked~label.sk-toggleable__label {background-color: #d4ebff;}#sk-container-id-3 div.sk-label input.sk-toggleable__control:checked~label.sk-toggleable__label {background-color: #d4ebff;}#sk-container-id-3 input.sk-hidden--visually {border: 0;clip: rect(1px 1px 1px 1px);clip: rect(1px, 1px, 1px, 1px);height: 1px;margin: -1px;overflow: hidden;padding: 0;position: absolute;width: 1px;}#sk-container-id-3 div.sk-estimator {font-family: monospace;background-color: #f0f8ff;border: 1px dotted black;border-radius: 0.25em;box-sizing: border-box;margin-bottom: 0.5em;}#sk-container-id-3 div.sk-estimator:hover {background-color: #d4ebff;}#sk-container-id-3 div.sk-parallel-item::after {content: \"\";width: 100%;border-bottom: 1px solid gray;flex-grow: 1;}#sk-container-id-3 div.sk-label:hover label.sk-toggleable__label {background-color: #d4ebff;}#sk-container-id-3 div.sk-serial::before {content: \"\";position: absolute;border-left: 1px solid gray;box-sizing: border-box;top: 0;bottom: 0;left: 50%;z-index: 0;}#sk-container-id-3 div.sk-serial {display: flex;flex-direction: column;align-items: center;background-color: white;padding-right: 0.2em;padding-left: 0.2em;position: relative;}#sk-container-id-3 div.sk-item {position: relative;z-index: 1;}#sk-container-id-3 div.sk-parallel {display: flex;align-items: stretch;justify-content: center;background-color: white;position: relative;}#sk-container-id-3 div.sk-item::before, #sk-container-id-3 div.sk-parallel-item::before {content: \"\";position: absolute;border-left: 1px solid gray;box-sizing: border-box;top: 0;bottom: 0;left: 50%;z-index: -1;}#sk-container-id-3 div.sk-parallel-item {display: flex;flex-direction: column;z-index: 1;position: relative;background-color: white;}#sk-container-id-3 div.sk-parallel-item:first-child::after {align-self: flex-end;width: 50%;}#sk-container-id-3 div.sk-parallel-item:last-child::after {align-self: flex-start;width: 50%;}#sk-container-id-3 div.sk-parallel-item:only-child::after {width: 0;}#sk-container-id-3 div.sk-dashed-wrapped {border: 1px dashed gray;margin: 0 0.4em 0.5em 0.4em;box-sizing: border-box;padding-bottom: 0.4em;background-color: white;}#sk-container-id-3 div.sk-label label {font-family: monospace;font-weight: bold;display: inline-block;line-height: 1.2em;}#sk-container-id-3 div.sk-label-container {text-align: center;}#sk-container-id-3 div.sk-container {/* jupyter's `normalize.less` sets `[hidden] { display: none; }` but bootstrap.min.css set `[hidden] { display: none !important; }` so we also need the `!important` here to be able to override the default hidden behavior on the sphinx rendered scikit-learn.org. See: https://github.com/scikit-learn/scikit-learn/issues/21755 */display: inline-block !important;position: relative;}#sk-container-id-3 div.sk-text-repr-fallback {display: none;}</style><div id=\"sk-container-id-3\" class=\"sk-top-container\"><div class=\"sk-text-repr-fallback\"><pre>StandardScaler()</pre><b>In a Jupyter environment, please rerun this cell to show the HTML representation or trust the notebook. <br />On GitHub, the HTML representation is unable to render, please try loading this page with nbviewer.org.</b></div><div class=\"sk-container\" hidden><div class=\"sk-item\"><div class=\"sk-estimator sk-toggleable\"><input class=\"sk-toggleable__control sk-hidden--visually\" id=\"sk-estimator-id-3\" type=\"checkbox\" checked><label for=\"sk-estimator-id-3\" class=\"sk-toggleable__label sk-toggleable__label-arrow\">StandardScaler</label><div class=\"sk-toggleable__content\"><pre>StandardScaler()</pre></div></div></div></div></div>"
      ],
      "text/plain": [
       "StandardScaler()"
      ]
     },
     "execution_count": 26,
     "metadata": {},
     "output_type": "execute_result"
    }
   ],
   "source": [
    "scaler.fit(df[['total_bill','tip']])"
   ]
  },
  {
   "cell_type": "code",
   "execution_count": 31,
   "metadata": {},
   "outputs": [],
   "source": [
    "import pandas as pd\n",
    "df=pd.DataFrame( scaler.transform(df[['total_bill','tip']]),columns=['total_bill','tip'])"
   ]
  },
  {
   "cell_type": "code",
   "execution_count": 32,
   "metadata": {},
   "outputs": [
    {
     "data": {
      "text/html": [
       "<div>\n",
       "<style scoped>\n",
       "    .dataframe tbody tr th:only-of-type {\n",
       "        vertical-align: middle;\n",
       "    }\n",
       "\n",
       "    .dataframe tbody tr th {\n",
       "        vertical-align: top;\n",
       "    }\n",
       "\n",
       "    .dataframe thead th {\n",
       "        text-align: right;\n",
       "    }\n",
       "</style>\n",
       "<table border=\"1\" class=\"dataframe\">\n",
       "  <thead>\n",
       "    <tr style=\"text-align: right;\">\n",
       "      <th></th>\n",
       "      <th>total_bill</th>\n",
       "      <th>tip</th>\n",
       "    </tr>\n",
       "  </thead>\n",
       "  <tbody>\n",
       "    <tr>\n",
       "      <th>0</th>\n",
       "      <td>-0.314711</td>\n",
       "      <td>-1.439947</td>\n",
       "    </tr>\n",
       "    <tr>\n",
       "      <th>1</th>\n",
       "      <td>-1.063235</td>\n",
       "      <td>-0.969205</td>\n",
       "    </tr>\n",
       "    <tr>\n",
       "      <th>2</th>\n",
       "      <td>0.137780</td>\n",
       "      <td>0.363356</td>\n",
       "    </tr>\n",
       "    <tr>\n",
       "      <th>3</th>\n",
       "      <td>0.438315</td>\n",
       "      <td>0.225754</td>\n",
       "    </tr>\n",
       "    <tr>\n",
       "      <th>4</th>\n",
       "      <td>0.540745</td>\n",
       "      <td>0.443020</td>\n",
       "    </tr>\n",
       "  </tbody>\n",
       "</table>\n",
       "</div>"
      ],
      "text/plain": [
       "   total_bill       tip\n",
       "0   -0.314711 -1.439947\n",
       "1   -1.063235 -0.969205\n",
       "2    0.137780  0.363356\n",
       "3    0.438315  0.225754\n",
       "4    0.540745  0.443020"
      ]
     },
     "execution_count": 32,
     "metadata": {},
     "output_type": "execute_result"
    }
   ],
   "source": [
    "df.head()"
   ]
  },
  {
   "cell_type": "code",
   "execution_count": null,
   "metadata": {},
   "outputs": [],
   "source": []
  }
 ],
 "metadata": {
  "kernelspec": {
   "display_name": "Python 3",
   "language": "python",
   "name": "python3"
  },
  "language_info": {
   "codemirror_mode": {
    "name": "ipython",
    "version": 3
   },
   "file_extension": ".py",
   "mimetype": "text/x-python",
   "name": "python",
   "nbconvert_exporter": "python",
   "pygments_lexer": "ipython3",
   "version": "3.11.5"
  }
 },
 "nbformat": 4,
 "nbformat_minor": 2
}
